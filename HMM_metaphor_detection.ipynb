{
 "cells": [
  {
   "cell_type": "code",
   "execution_count": 117,
   "metadata": {},
   "outputs": [],
   "source": [
    "import pandas as pd\n",
    "import numpy as np\n",
    "import os\n",
    "import math"
   ]
  },
  {
   "cell_type": "markdown",
   "metadata": {},
   "source": [
    "### Import Data as Dataframe"
   ]
  },
  {
   "cell_type": "code",
   "execution_count": 161,
   "metadata": {},
   "outputs": [
    {
     "data": {
      "text/html": [
       "<div>\n",
       "<style scoped>\n",
       "    .dataframe tbody tr th:only-of-type {\n",
       "        vertical-align: middle;\n",
       "    }\n",
       "\n",
       "    .dataframe tbody tr th {\n",
       "        vertical-align: top;\n",
       "    }\n",
       "\n",
       "    .dataframe thead th {\n",
       "        text-align: right;\n",
       "    }\n",
       "</style>\n",
       "<table border=\"1\" class=\"dataframe\">\n",
       "  <thead>\n",
       "    <tr style=\"text-align: right;\">\n",
       "      <th></th>\n",
       "      <th>sentence</th>\n",
       "      <th>pos_seq</th>\n",
       "      <th>label_seq</th>\n",
       "    </tr>\n",
       "  </thead>\n",
       "  <tbody>\n",
       "    <tr>\n",
       "      <th>0</th>\n",
       "      <td>Ca n't fail to be entertaining .</td>\n",
       "      <td>['VERB', 'ADV', 'VERB', 'PART', 'VERB', 'ADJ',...</td>\n",
       "      <td>[0, 0, 0, 0, 0, 0, 0]</td>\n",
       "    </tr>\n",
       "    <tr>\n",
       "      <th>1</th>\n",
       "      <td>How much was he going to tell her ?</td>\n",
       "      <td>['ADV', 'ADJ', 'VERB', 'PRON', 'VERB', 'PART',...</td>\n",
       "      <td>[0, 0, 0, 0, 0, 0, 0, 0, 0]</td>\n",
       "    </tr>\n",
       "    <tr>\n",
       "      <th>2</th>\n",
       "      <td>Up until that news hit the Committee , Don had...</td>\n",
       "      <td>['ADP', 'ADP', 'DET', 'NOUN', 'VERB', 'DET', '...</td>\n",
       "      <td>[0, 0, 1, 0, 1, 0, 0, 0, 0, 0, 0, 0, 0, 1, 0, ...</td>\n",
       "    </tr>\n",
       "    <tr>\n",
       "      <th>3</th>\n",
       "      <td>Could go on to the rugby and go with them coul...</td>\n",
       "      <td>['VERB', 'VERB', 'PART', 'ADP', 'DET', 'NOUN',...</td>\n",
       "      <td>[0, 0, 0, 0, 0, 0, 0, 0, 0, 0, 0, 0, 0, 0]</td>\n",
       "    </tr>\n",
       "    <tr>\n",
       "      <th>4</th>\n",
       "      <td>Finally , we went to the office and they gave ...</td>\n",
       "      <td>['ADV', 'PUNCT', 'PRON', 'VERB', 'ADP', 'DET',...</td>\n",
       "      <td>[0, 0, 0, 0, 0, 0, 0, 0, 1, 1, 0, 0, 0, 0, 0, ...</td>\n",
       "    </tr>\n",
       "  </tbody>\n",
       "</table>\n",
       "</div>"
      ],
      "text/plain": [
       "                                            sentence  \\\n",
       "0                   Ca n't fail to be entertaining .   \n",
       "1                How much was he going to tell her ?   \n",
       "2  Up until that news hit the Committee , Don had...   \n",
       "3  Could go on to the rugby and go with them coul...   \n",
       "4  Finally , we went to the office and they gave ...   \n",
       "\n",
       "                                             pos_seq  \\\n",
       "0  ['VERB', 'ADV', 'VERB', 'PART', 'VERB', 'ADJ',...   \n",
       "1  ['ADV', 'ADJ', 'VERB', 'PRON', 'VERB', 'PART',...   \n",
       "2  ['ADP', 'ADP', 'DET', 'NOUN', 'VERB', 'DET', '...   \n",
       "3  ['VERB', 'VERB', 'PART', 'ADP', 'DET', 'NOUN',...   \n",
       "4  ['ADV', 'PUNCT', 'PRON', 'VERB', 'ADP', 'DET',...   \n",
       "\n",
       "                                           label_seq  \n",
       "0                              [0, 0, 0, 0, 0, 0, 0]  \n",
       "1                        [0, 0, 0, 0, 0, 0, 0, 0, 0]  \n",
       "2  [0, 0, 1, 0, 1, 0, 0, 0, 0, 0, 0, 0, 0, 1, 0, ...  \n",
       "3         [0, 0, 0, 0, 0, 0, 0, 0, 0, 0, 0, 0, 0, 0]  \n",
       "4  [0, 0, 0, 0, 0, 0, 0, 0, 1, 1, 0, 0, 0, 0, 0, ...  "
      ]
     },
     "execution_count": 161,
     "metadata": {},
     "output_type": "execute_result"
    }
   ],
   "source": [
    "cwd = os.getcwd()\n",
    "rel_path = '/data_release'\n",
    "filename = '/train.csv'\n",
    "train_data = pd.read_csv(cwd + rel_path + filename, encoding = \"ISO-8859-1\")\n",
    "train_data.head(5)"
   ]
  },
  {
   "cell_type": "markdown",
   "metadata": {},
   "source": [
    "### Unknown Word Handling"
   ]
  },
  {
   "cell_type": "code",
   "execution_count": 214,
   "metadata": {},
   "outputs": [],
   "source": [
    "def unknown_words(wordlist):\n",
    "    for i in range(len(wordlist)):\n",
    "        toss = np.random.binomial(size=1, n=1, p= 0.005)\n",
    "        if toss == 1:\n",
    "            wordlist[i] = 'UNK'\n",
    "    return wordlist"
   ]
  },
  {
   "cell_type": "markdown",
   "metadata": {},
   "source": [
    "### Converting all sentences into corresponding Words in a List"
   ]
  },
  {
   "cell_type": "code",
   "execution_count": 215,
   "metadata": {},
   "outputs": [
    {
     "name": "stdout",
     "output_type": "stream",
     "text": [
      "116622\n"
     ]
    }
   ],
   "source": [
    "# O(n) Complexity\n",
    "\n",
    "sentence = train_data['sentence']\n",
    "sentence = list(sentence)\n",
    "word_str = ''\n",
    "for item in sentence:\n",
    "    word_str += item + ' '\n",
    "\n",
    "word_str = word_str.lower()\n",
    "word_list = word_str.split()\n",
    "word_list = unknown_words(word_list)          # def unknown_words()\n",
    "print(len(word_list))\n"
   ]
  },
  {
   "cell_type": "markdown",
   "metadata": {},
   "source": [
    "### Converting all metaphor labels into one huge list of labels of 0's and 1's"
   ]
  },
  {
   "cell_type": "code",
   "execution_count": 216,
   "metadata": {},
   "outputs": [
    {
     "data": {
      "text/plain": [
       "116622"
      ]
     },
     "execution_count": 216,
     "metadata": {},
     "output_type": "execute_result"
    }
   ],
   "source": [
    "# O(n) complexity\n",
    "\n",
    "tag = train_data['label_seq'].tolist()\n",
    "tag_str = ''\n",
    "for item in tag:\n",
    "    item = item[1:-1]\n",
    "    tag_str += item + ', '\n",
    "    \n",
    "tag_list_str = tag_str.split(', ')\n",
    "tag_list_str = tag_list_str[0:-1]\n",
    "tag_list = []\n",
    "for item in tag_list_str:\n",
    "    tag_list.append(int(item))\n",
    "\n",
    "len(tag_list)"
   ]
  },
  {
   "cell_type": "markdown",
   "metadata": {},
   "source": [
    "### Creating Dictionary for each word and its count of tags"
   ]
  },
  {
   "cell_type": "code",
   "execution_count": 217,
   "metadata": {},
   "outputs": [
    {
     "name": "stdout",
     "output_type": "stream",
     "text": [
      "[530, 75]\n"
     ]
    }
   ],
   "source": [
    "# O(n) Complexity\n",
    "\n",
    "word_dict = {}\n",
    "\n",
    "for item, tag in zip(word_list, tag_list):\n",
    "    if item not in word_dict:\n",
    "        val_list = [0,0]\n",
    "        val_list[tag] += 1\n",
    "        word_dict[item] = val_list\n",
    "    else:\n",
    "        val_list = word_dict[item]\n",
    "        val_list[tag] += 1\n",
    "        word_dict[item] = val_list\n",
    "        \n",
    "print(word_dict['UNK'])"
   ]
  },
  {
   "cell_type": "markdown",
   "metadata": {},
   "source": [
    "### Creating Dictionary of Tag counts (Unigrams and Bigrams)"
   ]
  },
  {
   "cell_type": "code",
   "execution_count": 218,
   "metadata": {},
   "outputs": [
    {
     "name": "stdout",
     "output_type": "stream",
     "text": [
      "{'0': 103571, '<s>': 6323, '1': 13051, '00': 87135, '0<s>': 6267, '<s>0': 5829, '01': 10169, '10': 10606, '11': 2389, '<s>1': 493, '1<s>': 56}\n"
     ]
    }
   ],
   "source": [
    "# O(n) Complexity\n",
    "\n",
    "tag_dict = {}\n",
    "\n",
    "tag = train_data['label_seq'].tolist()\n",
    "tag_str = ''\n",
    "for item in tag:\n",
    "    item = item[1:-1]\n",
    "    tag_str += item + ', ' + '<s>' + ', '\n",
    "\n",
    "tag_list_str_s = tag_str.split(', ')\n",
    "tag_list_str_s = tag_list_str_s[0:-1]\n",
    "\n",
    "tag_list_str_bigram = []\n",
    "for i in range(len(tag_list_str_s)-1):\n",
    "    tag_list_str_bigram.append(tag_list_str_s[i]+tag_list_str_s[i+1])\n",
    "\n",
    "for item in tag_list_str_s:\n",
    "    if item not in tag_dict:\n",
    "        tag_dict[item] = 1\n",
    "    else:\n",
    "        tag_dict[item] += 1\n",
    "\n",
    "for item in tag_list_str_bigram:\n",
    "    if item not in tag_dict:\n",
    "        tag_dict[item] = 1\n",
    "    else:\n",
    "        tag_dict[item] += 1\n",
    "\n",
    "print(tag_dict)"
   ]
  },
  {
   "cell_type": "markdown",
   "metadata": {},
   "source": [
    "### Transition Probability"
   ]
  },
  {
   "cell_type": "code",
   "execution_count": 92,
   "metadata": {},
   "outputs": [],
   "source": [
    "def t_prob(tag_dict, i, j):\n",
    "    if j==-1:\n",
    "        prob = tag_dict[str(i)]/(tag_dict[str(0)] + tag_dict[str(1)])\n",
    "    else:\n",
    "        key = str(j) + str(i)\n",
    "        prob = tag_dict[key]/tag_dict[str(j)]\n",
    "    \n",
    "    return prob"
   ]
  },
  {
   "cell_type": "markdown",
   "metadata": {},
   "source": [
    "### Emission Probability"
   ]
  },
  {
   "cell_type": "code",
   "execution_count": 170,
   "metadata": {},
   "outputs": [],
   "source": [
    "def emiss_prob(word_dict,tag_dict, word, i):\n",
    "    \n",
    "    if word in word_dict:\n",
    "        prob = word_dict[word][i]/tag_dict[str(i)]\n",
    "    else:\n",
    "        prob = word_dict['UNK'][i]/tag_dict[str(i)]\n",
    "    \n",
    "    return prob"
   ]
  },
  {
   "cell_type": "markdown",
   "metadata": {},
   "source": [
    "### Viterbi Algorithm on HMM"
   ]
  },
  {
   "cell_type": "code",
   "execution_count": 178,
   "metadata": {},
   "outputs": [],
   "source": [
    "def viterbi(item, word_dict, tag_dict, ntags):\n",
    "    \n",
    "    item = item.split()\n",
    "    word0 = item[0]\n",
    "    c_prev = -1\n",
    "    score = np.zeros((ntags, len(item)))\n",
    "    b_ptr = np.zeros((ntags, len(item)))\n",
    "    \n",
    "    for c in range(ntags):\n",
    "#         score[c,0] = math.log(t_prob(tag_dict, c, c_prev)) + math.log(emiss_prob(word_dict, tag_dict, word0, c))\n",
    "        score[c,0] = t_prob(tag_dict, c, c_prev)*emiss_prob(word_dict, tag_dict, word0, c)\n",
    "        b_ptr[c,0] = 0\n",
    "    \n",
    "    for t in range(1, len(item)):\n",
    "        for c in range(ntags):\n",
    "            emission_prob = emiss_prob(word_dict, tag_dict, item[t], c)\n",
    "            temp = []\n",
    "            for j in range(ntags):\n",
    "#                 temp.append(score[j,t-1] + math.log(t_prob(tag_dict, c, j)) + log(emission_prob))\n",
    "                temp.append(score[j,t-1]*t_prob(tag_dict, c, j)*emission_prob)\n",
    "            score[c,t] = max(temp)\n",
    "            b_ptr[c,t] = int(temp.index(max(temp)))\n",
    "    \n",
    "    b_ptr = np.int_(b_ptr)\n",
    "    Tseq = [-1]*len(item)\n",
    "    Tseq[len(item)-1] = np.argmax(score[:,len(item)-1])\n",
    "    for i in range(len(item)-2, -1, -1):\n",
    "        Tseq[i] = b_ptr[Tseq[i+1], i+1]\n",
    "    \n",
    "    return Tseq"
   ]
  },
  {
   "cell_type": "markdown",
   "metadata": {},
   "source": [
    "### Loading Validation Set and implementing Viterbi Algorithm on each sentence"
   ]
  },
  {
   "cell_type": "code",
   "execution_count": 226,
   "metadata": {},
   "outputs": [
    {
     "data": {
      "text/html": [
       "<div>\n",
       "<style scoped>\n",
       "    .dataframe tbody tr th:only-of-type {\n",
       "        vertical-align: middle;\n",
       "    }\n",
       "\n",
       "    .dataframe tbody tr th {\n",
       "        vertical-align: top;\n",
       "    }\n",
       "\n",
       "    .dataframe thead th {\n",
       "        text-align: right;\n",
       "    }\n",
       "</style>\n",
       "<table border=\"1\" class=\"dataframe\">\n",
       "  <thead>\n",
       "    <tr style=\"text-align: right;\">\n",
       "      <th></th>\n",
       "      <th>sentence</th>\n",
       "      <th>pos_seq</th>\n",
       "    </tr>\n",
       "  </thead>\n",
       "  <tbody>\n",
       "    <tr>\n",
       "      <th>0</th>\n",
       "      <td>For all his use of the model of the boxing mat...</td>\n",
       "      <td>['ADP', 'DET', 'ADJ', 'NOUN', 'ADP', 'DET', 'N...</td>\n",
       "    </tr>\n",
       "    <tr>\n",
       "      <th>1</th>\n",
       "      <td>Trade you in for a couple of camels , he 'd co...</td>\n",
       "      <td>['NOUN', 'PRON', 'ADV', 'ADP', 'DET', 'NOUN', ...</td>\n",
       "    </tr>\n",
       "    <tr>\n",
       "      <th>2</th>\n",
       "      <td>She does n't stoop in and</td>\n",
       "      <td>['PRON', 'VERB', 'ADV', 'VERB', 'PART', 'CCONJ']</td>\n",
       "    </tr>\n",
       "    <tr>\n",
       "      <th>3</th>\n",
       "      <td>take you up .</td>\n",
       "      <td>['VERB', 'PRON', 'PART', 'PUNCT']</td>\n",
       "    </tr>\n",
       "    <tr>\n",
       "      <th>4</th>\n",
       "      <td>I will go now and deliver them myself to Narok .</td>\n",
       "      <td>['PRON', 'VERB', 'VERB', 'ADV', 'CCONJ', 'VERB...</td>\n",
       "    </tr>\n",
       "  </tbody>\n",
       "</table>\n",
       "</div>"
      ],
      "text/plain": [
       "                                            sentence  \\\n",
       "0  For all his use of the model of the boxing mat...   \n",
       "1  Trade you in for a couple of camels , he 'd co...   \n",
       "2                          She does n't stoop in and   \n",
       "3                                      take you up .   \n",
       "4   I will go now and deliver them myself to Narok .   \n",
       "\n",
       "                                             pos_seq  \n",
       "0  ['ADP', 'DET', 'ADJ', 'NOUN', 'ADP', 'DET', 'N...  \n",
       "1  ['NOUN', 'PRON', 'ADV', 'ADP', 'DET', 'NOUN', ...  \n",
       "2   ['PRON', 'VERB', 'ADV', 'VERB', 'PART', 'CCONJ']  \n",
       "3                  ['VERB', 'PRON', 'PART', 'PUNCT']  \n",
       "4  ['PRON', 'VERB', 'VERB', 'ADV', 'CCONJ', 'VERB...  "
      ]
     },
     "execution_count": 226,
     "metadata": {},
     "output_type": "execute_result"
    }
   ],
   "source": [
    "# filename = '/val.csv'\n",
    "filename = '/test_no_label.csv'\n",
    "val_data = pd.read_csv(cwd + rel_path + filename, encoding = \"ISO-8859-1\")\n",
    "val_data.head(5)"
   ]
  },
  {
   "cell_type": "code",
   "execution_count": 227,
   "metadata": {},
   "outputs": [
    {
     "name": "stdout",
     "output_type": "stream",
     "text": [
      "50175\n"
     ]
    },
    {
     "data": {
      "text/html": [
       "<div>\n",
       "<style scoped>\n",
       "    .dataframe tbody tr th:only-of-type {\n",
       "        vertical-align: middle;\n",
       "    }\n",
       "\n",
       "    .dataframe tbody tr th {\n",
       "        vertical-align: top;\n",
       "    }\n",
       "\n",
       "    .dataframe thead th {\n",
       "        text-align: right;\n",
       "    }\n",
       "</style>\n",
       "<table border=\"1\" class=\"dataframe\">\n",
       "  <thead>\n",
       "    <tr style=\"text-align: right;\">\n",
       "      <th></th>\n",
       "      <th>label</th>\n",
       "    </tr>\n",
       "    <tr>\n",
       "      <th>idx</th>\n",
       "      <th></th>\n",
       "    </tr>\n",
       "  </thead>\n",
       "  <tbody>\n",
       "    <tr>\n",
       "      <th>1</th>\n",
       "      <td>0</td>\n",
       "    </tr>\n",
       "    <tr>\n",
       "      <th>2</th>\n",
       "      <td>0</td>\n",
       "    </tr>\n",
       "    <tr>\n",
       "      <th>3</th>\n",
       "      <td>0</td>\n",
       "    </tr>\n",
       "    <tr>\n",
       "      <th>4</th>\n",
       "      <td>0</td>\n",
       "    </tr>\n",
       "    <tr>\n",
       "      <th>5</th>\n",
       "      <td>0</td>\n",
       "    </tr>\n",
       "  </tbody>\n",
       "</table>\n",
       "</div>"
      ],
      "text/plain": [
       "     label\n",
       "idx       \n",
       "1        0\n",
       "2        0\n",
       "3        0\n",
       "4        0\n",
       "5        0"
      ]
     },
     "execution_count": 227,
     "metadata": {},
     "output_type": "execute_result"
    }
   ],
   "source": [
    "val_sentence = val_data['sentence'].tolist()\n",
    "ntags = 2\n",
    "tagseq = []                                   # Predicted Labels\n",
    "for item in val_sentence:\n",
    "    item = item.lower()\n",
    "    tagseq += viterbi(item, word_dict, tag_dict, ntags)\n",
    "\n",
    "print(len(tagseq))\n",
    "\n",
    "# # NOT REQUIRED\n",
    "# val_label =  val_data['label_seq'].tolist()\n",
    "# tag_str_val = ''\n",
    "# for item in val_label:\n",
    "#     item = item[1:-1]\n",
    "#     tag_str_val += item + ', '\n",
    "    \n",
    "# tag_list_str_val = tag_str_val.split(', ')\n",
    "# tag_list_str_val = tag_list_str_val[0:-1]\n",
    "# labelseq = []                                # Truthful Labels (Ground Truths)\n",
    "# for item in tag_list_str_val:\n",
    "#     labelseq.append(int(item))\n",
    "\n",
    "# print(len(labelseq))\n",
    "\n",
    "output = pd.DataFrame(tagseq)\n",
    "output.columns = ['label']\n",
    "output.index.name = 'idx'\n",
    "output.index += 1\n",
    "path = os.getcwd() + '/result_HMM_test.csv'\n",
    "output.to_csv(path)\n",
    "output.head()\n"
   ]
  },
  {
   "cell_type": "code",
   "execution_count": null,
   "metadata": {},
   "outputs": [],
   "source": []
  },
  {
   "cell_type": "code",
   "execution_count": null,
   "metadata": {},
   "outputs": [],
   "source": []
  }
 ],
 "metadata": {
  "kernelspec": {
   "display_name": "Python 3",
   "language": "python",
   "name": "python3"
  },
  "language_info": {
   "codemirror_mode": {
    "name": "ipython",
    "version": 3
   },
   "file_extension": ".py",
   "mimetype": "text/x-python",
   "name": "python",
   "nbconvert_exporter": "python",
   "pygments_lexer": "ipython3",
   "version": "3.7.3"
  }
 },
 "nbformat": 4,
 "nbformat_minor": 2
}
